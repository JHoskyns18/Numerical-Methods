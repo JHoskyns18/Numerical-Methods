{
 "cells": [
  {
   "cell_type": "markdown",
   "id": "f3e84265",
   "metadata": {},
   "source": [
    "### Reimann Integral"
   ]
  },
  {
   "cell_type": "code",
   "execution_count": 1,
   "id": "8e48cb92",
   "metadata": {},
   "outputs": [],
   "source": [
    "import numpy as np\n",
    "import matplotlib.pyplot as plt"
   ]
  },
  {
   "cell_type": "code",
   "execution_count": 2,
   "id": "01bd2cbc",
   "metadata": {},
   "outputs": [],
   "source": [
    "def I_reimannRight(func,a,b,n):\n",
    "    x = np.linspace(a,b,n)\n",
    "    f = func(x)\n",
    "    h = (b-a)/(n-1)\n",
    "    return(h*sum(f[1:n]))\n",
    "def I_reimannLeft(func,a,b,n):\n",
    "    x = np.linspace(a,b,n)\n",
    "    f = func(x)\n",
    "    h = (b-a)/(n-1)\n",
    "    return(h*sum(f[:n-1]))"
   ]
  },
  {
   "cell_type": "code",
   "execution_count": 3,
   "id": "71342979",
   "metadata": {},
   "outputs": [],
   "source": [
    "def I_midpoint(func,a,b,n):\n",
    "    x = np.linspace(a,b,n)\n",
    "    f = func(x)\n",
    "    h = (b-a)/(n-1)\n",
    "    return(h*sum(f[1:n-1]))"
   ]
  },
  {
   "cell_type": "code",
   "execution_count": 4,
   "id": "f61e5c8c",
   "metadata": {},
   "outputs": [],
   "source": [
    "def I_trap(func,a,b,n):\n",
    "    x = np.linspace(a,b,n)\n",
    "    f = func(x)\n",
    "    h = (b-a)/(n-1)\n",
    "    return((h/2) * (f[0]+ 2*sum(f[1:n-1])+f[n-1]))"
   ]
  },
  {
   "cell_type": "code",
   "execution_count": 5,
   "id": "996eebf5",
   "metadata": {},
   "outputs": [],
   "source": [
    "def I_simp(func,a,b,n):\n",
    "    x = np.linspace(a,b,n+1)\n",
    "    f = func(x)\n",
    "    h = (b-a)/n\n",
    "    result = 0\n",
    "    i = 2\n",
    "    while i <= n:\n",
    "        result += (h/3)*(f[i-2]+4*f[i-1]+f[i])\n",
    "        i += 2\n",
    "    return(result)"
   ]
  },
  {
   "cell_type": "code",
   "execution_count": 6,
   "id": "0774f684",
   "metadata": {},
   "outputs": [],
   "source": [
    "func = lambda x : np.sin(x)"
   ]
  },
  {
   "cell_type": "code",
   "execution_count": 7,
   "id": "75fb2819",
   "metadata": {},
   "outputs": [
    {
     "data": {
      "text/plain": [
       "1.9835235375094546"
      ]
     },
     "execution_count": 7,
     "metadata": {},
     "output_type": "execute_result"
    }
   ],
   "source": [
    "I_midpoint(func,0,np.pi,11)"
   ]
  },
  {
   "cell_type": "code",
   "execution_count": 8,
   "id": "90938d5b",
   "metadata": {},
   "outputs": [
    {
     "data": {
      "text/plain": [
       "1.9595661098892299"
      ]
     },
     "execution_count": 8,
     "metadata": {},
     "output_type": "execute_result"
    }
   ],
   "source": [
    "I_simp(func,0,np.pi,11)"
   ]
  },
  {
   "cell_type": "code",
   "execution_count": 9,
   "id": "e7ade329",
   "metadata": {},
   "outputs": [],
   "source": [
    "def gauss_legendre(f, a, b, N):\n",
    "    nodes, weights = np.polynomial.legendre.leggauss(N)\n",
    "\n",
    "    # Transform nodes to the interval [a, b]\n",
    "    transformed_nodes = (b - a) / 2 * nodes + (a + b) / 2\n",
    "    \n",
    "    transformed_weights = (b - a) / 2 * weights\n",
    "    \n",
    "    # Calculate the integral value directly\n",
    "    integral_value = sum(transformed_weights * func(transformed_nodes))\n",
    "    \n",
    "    return integral_value"
   ]
  },
  {
   "cell_type": "code",
   "execution_count": null,
   "id": "2e81a06b",
   "metadata": {},
   "outputs": [],
   "source": []
  },
  {
   "cell_type": "code",
   "execution_count": null,
   "id": "1c4a1329",
   "metadata": {},
   "outputs": [],
   "source": []
  },
  {
   "cell_type": "markdown",
   "id": "e3fbcdb4",
   "metadata": {},
   "source": [
    "We use the left, right and midpoint rule of Reimann integral to approximate the function $I = \\int_{0}^{\\pi} sin(x) dx$ with 11 evenly spaced grid points over the whole interval. Compare this value to the exact value of 2"
   ]
  },
  {
   "cell_type": "code",
   "execution_count": 10,
   "id": "f4a0b9d2",
   "metadata": {},
   "outputs": [],
   "source": [
    "# Riemann Integral"
   ]
  },
  {
   "cell_type": "code",
   "execution_count": 11,
   "id": "3eb24acc",
   "metadata": {},
   "outputs": [],
   "source": [
    "a=0\n",
    "b=np.pi\n",
    "n=11\n",
    "h=(b-a)/(n-1)\n",
    "\n",
    "x=np.linspace(a,b,n)\n",
    "f=np.sin(x)"
   ]
  },
  {
   "cell_type": "code",
   "execution_count": 12,
   "id": "ad0fa89a",
   "metadata": {},
   "outputs": [],
   "source": [
    "\n",
    "I_reimannL = h * sum(f[:n-1])\n",
    "err_riemannL = 2 - I_reimannL # 2 here is the known exact value"
   ]
  },
  {
   "cell_type": "code",
   "execution_count": 13,
   "id": "95fd9674",
   "metadata": {
    "scrolled": true
   },
   "outputs": [
    {
     "name": "stdout",
     "output_type": "stream",
     "text": [
      "1.9835235375094546 0.01647646249054535\n"
     ]
    }
   ],
   "source": [
    "print(I_reimannL, err_riemannL)"
   ]
  },
  {
   "cell_type": "code",
   "execution_count": 14,
   "id": "a1e95aad",
   "metadata": {},
   "outputs": [],
   "source": [
    "I_reimannR = h *sum(f[1:n])\n",
    "err_riemannR = 2 - I_reimannR"
   ]
  },
  {
   "cell_type": "code",
   "execution_count": 15,
   "id": "4a86881b",
   "metadata": {},
   "outputs": [
    {
     "name": "stdout",
     "output_type": "stream",
     "text": [
      "1.9835235375094546 0.01647646249054535\n"
     ]
    }
   ],
   "source": [
    "print(I_reimannR, err_riemannR)"
   ]
  },
  {
   "cell_type": "code",
   "execution_count": 16,
   "id": "99e2a33e",
   "metadata": {},
   "outputs": [],
   "source": [
    "# Midpoint rule"
   ]
  },
  {
   "cell_type": "code",
   "execution_count": 17,
   "id": "2fd598e5",
   "metadata": {},
   "outputs": [],
   "source": [
    "I_mid=h*sum(np.sin((x[:n-1]+x[1:n])/2)) # Don't include first or last value\n",
    "err_Imid= 2 - I_mid"
   ]
  },
  {
   "cell_type": "code",
   "execution_count": 18,
   "id": "904146b9",
   "metadata": {},
   "outputs": [
    {
     "name": "stdout",
     "output_type": "stream",
     "text": [
      "2.0082484079079745 -0.008248407907974542\n"
     ]
    }
   ],
   "source": [
    "print(I_mid, err_Imid) # Error much smaller prop to h^3"
   ]
  },
  {
   "cell_type": "markdown",
   "id": "89b2e1b2",
   "metadata": {},
   "source": [
    "### Trapezoid rule"
   ]
  },
  {
   "cell_type": "code",
   "execution_count": 19,
   "id": "d7945290",
   "metadata": {},
   "outputs": [],
   "source": [
    "# Trapozoid Rule"
   ]
  },
  {
   "cell_type": "code",
   "execution_count": 20,
   "id": "eb50f926",
   "metadata": {},
   "outputs": [],
   "source": [
    "I_trap= (h/2)*(f[0]+ 2*sum(f[1:n-1]) + f[n-1])\n",
    "#.    first value.   all middle values appear twise.  last value. \n",
    "err_Itrap=2-I_trap"
   ]
  },
  {
   "cell_type": "code",
   "execution_count": 21,
   "id": "ce20c36c",
   "metadata": {},
   "outputs": [
    {
     "name": "stdout",
     "output_type": "stream",
     "text": [
      "1.9835235375094546 0.01647646249054535\n"
     ]
    }
   ],
   "source": [
    "print(I_trap,err_Itrap)"
   ]
  },
  {
   "cell_type": "code",
   "execution_count": 22,
   "id": "12d9b6c3",
   "metadata": {},
   "outputs": [],
   "source": [
    "# Using scipy package:"
   ]
  },
  {
   "cell_type": "markdown",
   "id": "565b2710",
   "metadata": {},
   "source": [
    "Computing integrals with python. The $scipy.integrate$ subpackage has several functions for computing integrals. The $trapezoid$ takes as arguments an array of function values $f$ computed on a numerical grid $x$"
   ]
  },
  {
   "cell_type": "code",
   "execution_count": 23,
   "id": "33acd1f4",
   "metadata": {},
   "outputs": [],
   "source": [
    "from scipy.integrate import trapezoid as trpz\n"
   ]
  },
  {
   "cell_type": "code",
   "execution_count": 24,
   "id": "66edf334",
   "metadata": {},
   "outputs": [],
   "source": [
    "I_trapz=trpz(f,x)\n",
    "err=2-I_trapz"
   ]
  },
  {
   "cell_type": "code",
   "execution_count": 25,
   "id": "0f8b6a96",
   "metadata": {
    "scrolled": true
   },
   "outputs": [
    {
     "name": "stdout",
     "output_type": "stream",
     "text": [
      "1.9835235375094542 0.016476462490545796\n"
     ]
    }
   ],
   "source": [
    "print(I_trapz,err)"
   ]
  },
  {
   "cell_type": "markdown",
   "id": "61719bad",
   "metadata": {},
   "source": [
    "### The Simpson's rule"
   ]
  },
  {
   "cell_type": "code",
   "execution_count": 26,
   "id": "d90338bd",
   "metadata": {},
   "outputs": [],
   "source": [
    "from scipy.integrate import simpson\n",
    "# Simpson Rule"
   ]
  },
  {
   "cell_type": "code",
   "execution_count": 27,
   "id": "47100399",
   "metadata": {},
   "outputs": [
    {
     "name": "stdout",
     "output_type": "stream",
     "text": [
      "2.0001095173150043 -0.00010951731500430384\n"
     ]
    }
   ],
   "source": [
    "I_simp=simpson(f, x=x)\n",
    "I_simp\n",
    "err=2-I_simp\n",
    "print(I_simp, err)"
   ]
  },
  {
   "cell_type": "code",
   "execution_count": 28,
   "id": "fae76e35",
   "metadata": {},
   "outputs": [],
   "source": [
    "# Guassian quadrature scipy package"
   ]
  },
  {
   "cell_type": "code",
   "execution_count": 29,
   "id": "60fb0818",
   "metadata": {},
   "outputs": [
    {
     "name": "stdout",
     "output_type": "stream",
     "text": [
      "2.0\n",
      "2.220446049250313e-14 0.0\n"
     ]
    }
   ],
   "source": [
    "from scipy.integrate import quad \n",
    "\n",
    "I_quad, est_err_quad = quad(np.sin, 0, np.pi)\n",
    "print(I_quad)\n",
    "err_quad = 2 - I_quad\n",
    "print(est_err_quad, err_quad)"
   ]
  },
  {
   "cell_type": "markdown",
   "id": "4bd913dd-ec52-41ec-98f5-d3a35188967f",
   "metadata": {},
   "source": [
    "Lets' assume we want to calculate the $ \\int_0^\\pi sin(x) dx$ using Gaussian-Legendre quadrature. \n",
    "\n",
    "First, transform the integral using the substitution method. Given an integral from (a) to (b), we need to transform it to the standard interval from (-1) to (1) using the change of variables:\n",
    "$ x = \\frac{b-a}{2}t + \\frac{a+b}{2} $\n",
    "\n",
    "The differential is then:\n",
    "$ dx = \\frac{b-a}{2} dt $\n",
    "\n",
    "Using these transformations, the integral becomes:\n",
    "$ \\int_{a}^{b} f(x) dx = \\frac{b-a}{2} \\int_{-1}^{1} f\\left(\\frac{b-a}{2}t + \\frac{a+b}{2}\\right)  dt $\n",
    "\n",
    "\n"
   ]
  },
  {
   "cell_type": "code",
   "execution_count": 30,
   "id": "4d7f7905-1c79-4f3d-a610-215e1fd15e4c",
   "metadata": {},
   "outputs": [],
   "source": [
    "# Guass Legendre Method Analytically"
   ]
  },
  {
   "cell_type": "code",
   "execution_count": 31,
   "id": "e6cb87d7",
   "metadata": {},
   "outputs": [
    {
     "name": "stdout",
     "output_type": "stream",
     "text": [
      "1.5707963267948966 1.5707963267948966\n",
      "The integral of sin(x) from 0 to 3.141592653589793 is approximately 2.0013889136077436\n"
     ]
    }
   ],
   "source": [
    "import numpy as np\n",
    "\n",
    "def gauss_legendre(f, a, b):\n",
    "    # Transformation constants\n",
    "    c1 = (b - a) / 2\n",
    "    c2 = (a + b) / 2\n",
    "\n",
    "    # Gauss-Legendre three-point nodes and weights\n",
    "    nodes = np.array([-np.sqrt(3/5), 0, np.sqrt(3/5)])\n",
    "    weights = np.array([5/9, 8/9, 5/9])\n",
    "\n",
    "    # Transform and evaluate the integral\n",
    "    I = c1 * sum(weights * f((c1 * nodes) + c2))\n",
    "    print(c1,c2)\n",
    "    return I\n",
    "\n",
    "a = 0  # Lower limit\n",
    "b = np.pi  # Upper limit\n",
    "  # Calculate the integral of sin(x) from a to b\n",
    "integral_value = gauss_legendre(np.sin, a, b)\n",
    "print(f\"The integral of sin(x) from {a} to {b} is approximately {integral_value}\")"
   ]
  },
  {
   "cell_type": "markdown",
   "id": "9a693514-8322-495d-a625-b9957a081329",
   "metadata": {},
   "source": [
    "#### 1. c1 * nodes + c2: This expression transforms the nodes from the interval ([-1, 1]) to the interval ([a, b]) using the transformation defined earlier.\n",
    "\n",
    "#### 2. func(c1 * nodes + c2): This evaluates the input function at the transformed nodes. If you were integrating sin(x), this would compute (\\sin) at the transformed node locations.\n",
    "\n",
    "#### 3. weights * func(...): This computes the weighted contributions of the function evaluations. sum(...): This sums up all the weighted contributions to get the final evaluation of the integral.\n",
    "\n",
    "#### 4. c1 * ...: Finally, multiplying by c1 incorporates the scale factor for the length of the interval ([a, b]), completing the transformation needed for the definite integral.\n"
   ]
  },
  {
   "cell_type": "code",
   "execution_count": 32,
   "id": "b989bc55-b692-4d58-9b79-173b0160a3da",
   "metadata": {},
   "outputs": [
    {
     "name": "stdout",
     "output_type": "stream",
     "text": [
      "1.0 0.0\n",
      "The integral of e^x from -1 to 1 is 2.3503369286800115\n"
     ]
    }
   ],
   "source": [
    "\n",
    "\n",
    "a=-1\n",
    "b=1\n",
    "my_est=gauss_legendre(np.exp,a,b)\n",
    "print(f\"The integral of e^x from {a} to {b} is {my_est}\")\n"
   ]
  },
  {
   "cell_type": "code",
   "execution_count": 33,
   "id": "6842add5-15f7-4a68-b106-49fcf93bfafb",
   "metadata": {},
   "outputs": [
    {
     "name": "stdout",
     "output_type": "stream",
     "text": [
      "The integral of f(x) from -2 to 3 using Gauss-Legendre is approximately 0.5891623852548912\n",
      "The integral of f(x) from -2 to 3 using the trapezoidal rule is approximately 890.7201933524996\n"
     ]
    }
   ],
   "source": [
    "import numpy as np\n",
    "from scipy.integrate import trapezoid\n",
    "\n",
    "def gauss_legendre(f, a, b):\n",
    "    # Gauss-Legendre three-point nodes and weights for the interval [-1, 1]\n",
    "    nodes = np.array([-np.sqrt(3/5), 0, np.sqrt(3/5)])\n",
    "    weights = np.array([5/9, 8/9, 5/9])\n",
    "\n",
    "    # Transform nodes to the interval [a, b]\n",
    "    transformed_nodes = (b - a) / 2 * nodes + (a + b) / 2\n",
    "    \n",
    "    # Calculate the integral value directly\n",
    "    integral_value = (b - a) / 2 * sum(weights * func(transformed_nodes))\n",
    "    return integral_value\n",
    "\n",
    "def my_function(x):\n",
    "    # Define a 6th degree polynomial function\n",
    "    return 2*x**5  + 5*x**2 + 4*x**3 + 3*x**4 + 6*x + 7 + x**6 \n",
    "\n",
    "# Integration bounds\n",
    "a = -2\n",
    "b = 3\n",
    "\n",
    "# Calculate the integral using Gauss-Legendre\n",
    "my_est = gauss_legendre(my_function, a, b)\n",
    "print(f\"The integral of f(x) from {a} to {b} using Gauss-Legendre is approximately {my_est}\")\n",
    "\n",
    "# Number of sample points for trapezoidal rule\n",
    "n = 1000  # Adjust as needed for accuracy\n",
    "\n",
    "# Create an array of x values\n",
    "x_values = np.linspace(a, b, n)\n",
    "# Calculate the corresponding y values for the function\n",
    "y_values = my_function(x_values)\n",
    "\n",
    "# Calculate the integral using the trapezoidal rule\n",
    "integral_value_trapz = trapezoid(y_values, x_values)\n",
    "\n",
    "print(f\"The integral of f(x) from {a} to {b} using the trapezoidal rule is approximately {integral_value_trapz}\")"
   ]
  },
  {
   "cell_type": "markdown",
   "id": "dbecfa10-cc78-4ceb-90c4-aeb46cb0ae35",
   "metadata": {},
   "source": [
    "## Monte Carlo Integration "
   ]
  },
  {
   "cell_type": "code",
   "execution_count": 34,
   "id": "e3b1559d-eaa0-4ce3-b73d-90fc7fae08d5",
   "metadata": {},
   "outputs": [
    {
     "name": "stdout",
     "output_type": "stream",
     "text": [
      "1.9959609265844047\n"
     ]
    }
   ],
   "source": [
    "import numpy as np\n",
    "import matplotlib.pyplot as plt\n",
    "import numpy as np\n",
    "\n",
    "def func(x):\n",
    "    return np.sin(x)\n",
    "\n",
    "\n",
    "N= 100000\n",
    "a,b = 0,np.pi\n",
    "x=np.random.uniform(a,b,N)\n",
    "\n",
    "s=0\n",
    "for i in range(N):\n",
    "    value=func(x[i])\n",
    "    s=s+value\n",
    "\n",
    "integral=(s/N)*(b-a)\n",
    "print(integral)"
   ]
  },
  {
   "cell_type": "code",
   "execution_count": 35,
   "id": "d795da49",
   "metadata": {},
   "outputs": [
    {
     "data": {
      "text/plain": [
       "3.141592653589793"
      ]
     },
     "execution_count": 35,
     "metadata": {},
     "output_type": "execute_result"
    }
   ],
   "source": [
    "b"
   ]
  },
  {
   "cell_type": "code",
   "execution_count": 36,
   "id": "d281a626-fc9f-41a5-9499-3b28acfefcfb",
   "metadata": {},
   "outputs": [
    {
     "data": {
      "image/png": "[encoded data removed]",
      "text/plain": [
       "<Figure size 432x288 with 1 Axes>"
      ]
     },
     "metadata": {
      "needs_background": "light"
     },
     "output_type": "display_data"
    }
   ],
   "source": [
    "import numpy as np\n",
    "import matplotlib.pyplot as plt\n",
    "import numpy as np\n",
    "\n",
    "def func(x):\n",
    "    return np.sin(x)\n",
    "\n",
    "N=1000\n",
    "M=1000\n",
    "a,b=0,np.pi\n",
    "integrals=[]\n",
    "\n",
    "for k in range(M):\n",
    "    x=np.random.uniform(a,b,N)\n",
    "    s=0\n",
    "    for i in range(N):\n",
    "        value=func(x[i])\n",
    "        s=s+value\n",
    "    integral=(s/N)*(b-a)\n",
    "    integrals.append(integral)\n",
    "\n",
    "plt.hist(integrals,bins=20)\n",
    "plt.show()\n",
    "    "
   ]
  },
  {
   "cell_type": "code",
   "execution_count": 37,
   "id": "eb5bff60-1e91-4bbf-bd82-fc4384b7cb24",
   "metadata": {},
   "outputs": [
    {
     "name": "stdout",
     "output_type": "stream",
     "text": [
      "The Integral of the function using the Trapezoid reule is: 1.9835235375094546\n",
      "with an error of 0.01647646249054535\n"
     ]
    }
   ],
   "source": [
    "import numpy as np\n",
    "a,b=0,np.pi\n",
    "n=11\n",
    "h=(b-a)/(n-1)\n",
    "x=np.linspace(a,b,n)\n",
    "\n",
    "f=np.sin(x)\n",
    "\n",
    "integral_trapezoid=(h/2)*(f[0]+2*sum(f[1:n-1]) + f[n-1])\n",
    "error_ip=2-integral_trapezoid\n",
    "print(f\"The Integral of the function using the Trapezoid reule is: {integral_trapezoid}\")\n",
    "print(f\"with an error of {error_ip}\")"
   ]
  },
  {
   "cell_type": "code",
   "execution_count": 38,
   "id": "137b6132-f899-409c-a4de-13e9b09de488",
   "metadata": {},
   "outputs": [
    {
     "name": "stdout",
     "output_type": "stream",
     "text": [
      "Result from quad (Gaussian quadrature): 0.842700792949715\n",
      "Estimated error: 8.291413475940725e-15\n",
      "Result from trapezoidal method: 0.7468180014679698\n",
      "Result using 3-point Simpson's rule: 0.7471804289095104\n"
     ]
    }
   ],
   "source": [
    "import numpy as np\n",
    "from scipy.integrate import quad, simpson, trapezoid\n",
    "from scipy.special import roots_legendre\n",
    "\n",
    "# Define the function to integrate\n",
    "def func(y):\n",
    "    return np.exp(-y**2)\n",
    "\n",
    "# Integration limits\n",
    "a, b = 0, 1\n",
    "\n",
    "# 1. Calculate the integral using the quadrature method\n",
    "quad_result, quad_err = quad(func, a, b)\n",
    "quad_result = quad_result * 2 / np.sqrt(np.pi)  # Adjusting for the final result\n",
    "\n",
    "print(\"Result from quad (Gaussian quadrature):\", quad_result)\n",
    "print(\"Estimated error:\", quad_err)\n",
    "\n",
    "# 2. Calculate the integral using the trapezoidal method\n",
    "n_points = 101  # You can adjust this for better accuracy\n",
    "x_values = np.linspace(a, b, n_points)  # X values for trapezoidal method\n",
    "y_values = func(x_values)  # Function values at those x values\n",
    "trapezoidal_result = trapezoid(y_values, x_values)\n",
    "\n",
    "print(\"Result from trapezoidal method:\", trapezoidal_result)\n",
    "\n",
    "# 3. Calculate the integral using Simpson's 1/3 rule (with 3 points)\n",
    "x_values_simpson = np.linspace(a, b, 3)  # [0, 0.5, 1]\n",
    "y_values_simpson = func(x_values_simpson)\n",
    "simpson_result = (b - a) / 6 * (y_values_simpson[0] + 4 * y_values_simpson[1] + y_values_simpson[2])\n",
    "\n",
    "print(\"Result using 3-point Simpson's rule:\", simpson_result)\n",
    "\n"
   ]
  },
  {
   "cell_type": "markdown",
   "id": "3a3d72b3-afab-4343-a90f-a2ad2bd6a118",
   "metadata": {},
   "source": [
    "Set ( $x = \\frac{b-a}{2} \\cdot t + \\frac{b+a}{2} ).$\n",
    "L'integrale si trasforma:\n",
    "Integrale originale: $(\\int_a^b f(x) , dx)$\n",
    "Integrale scalato: $(\\frac{b-a}{2} \\int_{-1}^{1} f\\left(\\frac{b-a}{2} t + \\frac{b+a}{2}\\right) , dt).$"
   ]
  },
  {
   "cell_type": "code",
   "execution_count": null,
   "id": "7f006ee3",
   "metadata": {},
   "outputs": [],
   "source": []
  }
 ],
 "metadata": {
  "kernelspec": {
   "display_name": "Python 3 (ipykernel)",
   "language": "python",
   "name": "python3"
  },
  "language_info": {
   "codemirror_mode": {
    "name": "ipython",
    "version": 3
   },
   "file_extension": ".py",
   "mimetype": "text/x-python",
   "name": "python",
   "nbconvert_exporter": "python",
   "pygments_lexer": "ipython3",
   "version": "3.9.7"
  }
 },
 "nbformat": 4,
 "nbformat_minor": 5
}
