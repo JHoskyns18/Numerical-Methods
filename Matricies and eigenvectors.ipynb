{
 "cells": [
  {
   "cell_type": "markdown",
   "id": "ecc63637-ea37-4ee0-a686-aaab8bb64317",
   "metadata": {},
   "source": [
    "1. Write down the characteristic equation for matrix $A = \\begin{bmatrix}\n",
    "3 & 2\\\\\n",
    "5 & 3\\\\\n",
    "\\end{bmatrix}$. "
   ]
  },
  {
   "cell_type": "markdown",
   "id": "f14e9b1b-7393-4d02-acec-d01f877aadf4",
   "metadata": {},
   "source": [
    "1) \n",
    "    $ \\lambda^2 -6 \\lambda -1 = 0 $"
   ]
  },
  {
   "cell_type": "markdown",
   "id": "da0210a6-af09-40df-906d-f07309a0cf5c",
   "metadata": {},
   "source": [
    "2. Using the above characteristic equation to solve for eigenvalues and eigenvectors for matrix $A$. "
   ]
  },
  {
   "cell_type": "code",
   "execution_count": 1,
   "id": "f92dab47-3e59-4f02-8b38-ceda1a5dcc17",
   "metadata": {},
   "outputs": [
    {
     "name": "stdout",
     "output_type": "stream",
     "text": [
      "The eigenvalues are 6.16 and -0.16\n",
      "The eigenvectors are:\n",
      "[ 0.53452248 -0.53452248]\n",
      "[0.84515425 0.84515425]\n"
     ]
    }
   ],
   "source": [
    "import numpy as np\n",
    "from numpy.linalg import eig\n",
    "\n",
    "a,b,c = 1, -6, -1\n",
    "\n",
    "eig1 = (-b+np.sqrt(b**2-4*a*c))/(2*a)\n",
    "eig2 = (-b-np.sqrt(b**2-4*a*c))/(2*a)\n",
    "\n",
    "\n",
    "print(\"The eigenvalues are %.2f and %.2f\" %(eig1,eig2))\n",
    "\n",
    "values,vectors = eig(np.array([[3,2],\n",
    "                              [5,3]]))\n",
    "\n",
    "print(\"The eigenvectors are:\")\n",
    "print(vectors[0])\n",
    "print(vectors[1])"
   ]
  },
  {
   "cell_type": "markdown",
   "id": "fda7e402-73fb-456c-a6cc-ba321d2c7eac",
   "metadata": {},
   "source": [
    "3. Using the first eigenvector derived from problem 2 to verify that $Ax = \\lambda{x}$. "
   ]
  },
  {
   "cell_type": "code",
   "execution_count": 2,
   "id": "5b827cc0-9924-45ad-a070-cf18af3a6834",
   "metadata": {},
   "outputs": [
    {
     "data": {
      "text/plain": [
       "1.0"
      ]
     },
     "execution_count": 2,
     "metadata": {},
     "output_type": "execute_result"
    }
   ],
   "source": [
    "0.53452248/np.sqrt(0.53452248**2+0.53452248**2)*np.sqrt(2)"
   ]
  },
  {
   "cell_type": "code",
   "execution_count": 3,
   "id": "0382ae12-be91-4c75-90b1-3c83ebb30fd6",
   "metadata": {},
   "outputs": [
    {
     "name": "stdout",
     "output_type": "stream",
     "text": [
      "Eigenvalue 1\n",
      "[[0.70710678]\n",
      " [1.41421356]]\n",
      "[[ 4.35738832]\n",
      " [-4.35738832]]\n",
      "Eigenvalue 2\n",
      "[ 0.53452248 -0.53452248]\n"
     ]
    },
    {
     "data": {
      "text/plain": [
       "array([ 0.53452248, -0.53452248])"
      ]
     },
     "execution_count": 3,
     "metadata": {},
     "output_type": "execute_result"
    }
   ],
   "source": [
    "A = np.array([[3,2],\n",
    "             [5,3]])\n",
    "\n",
    "eigval,eigvec = eig(A)\n",
    "x = np.array([[1/np.sqrt(2)],\n",
    "             [-1/np.sqrt(2)]])\n",
    "print(\"Eigenvalue 1\")\n",
    "print(np.dot(A,x))\n",
    "print(eigval[0]*x)\n",
    "print(\"Eigenvalue 2\")\n",
    "print(eigvec[0].T)\n",
    "\n",
    "eigvec[0]"
   ]
  },
  {
   "cell_type": "markdown",
   "id": "578e89ab-77f9-4fba-8696-a55412fd4a44",
   "metadata": {},
   "source": [
    "4. Get the largest eigenvalue and eigenvector for matrix $A = \\begin{bmatrix}\n",
    "2 & 1 & 2\\\\\n",
    "1 & 3 & 2\\\\\n",
    "2 & 4 & 1\\\\\n",
    "\\end{bmatrix}$ using the power method. You can start with initial vector [1, 1, 1], see what you will get after 8 iterations. "
   ]
  },
  {
   "cell_type": "code",
   "execution_count": 4,
   "id": "2a5f4385-bf3b-46aa-ab4c-918a1cd8e573",
   "metadata": {},
   "outputs": [
    {
     "name": "stdout",
     "output_type": "stream",
     "text": [
      "Largest eigenvalue: 6.03\n",
      "Associated eigenvector:\n",
      "[[0.71918849]\n",
      " [0.8976852 ]\n",
      " [1.        ]]\n"
     ]
    }
   ],
   "source": [
    "A = np.array([[2,1,2],\n",
    "             [1,3,2],\n",
    "             [2,4,1]])\n",
    "\n",
    "v = np.array([[1],\n",
    "             [1],\n",
    "             [1]])\n",
    "\n",
    "\n",
    "for i in range(8):\n",
    "    eigen = max(np.matmul(A,v))[0]\n",
    "    if eigen != 0:\n",
    "        v = np.matmul(A,v)/eigen\n",
    "    \n",
    "print(\"Largest eigenvalue: %.2f\" %eigen)\n",
    "print(\"Associated eigenvector:\")\n",
    "print(v)"
   ]
  },
  {
   "cell_type": "markdown",
   "id": "fb0873e9-0d29-4b73-bd88-127151811a2b",
   "metadata": {},
   "source": [
    "5. Do a QR decomposition for matrix $A$ in problem 4, and verify that $A=QR$ and $Q$ is an orthogonal matrix. "
   ]
  },
  {
   "cell_type": "code",
   "execution_count": 5,
   "id": "395313b8-99f6-4a9b-8138-35ee8365fc3c",
   "metadata": {},
   "outputs": [
    {
     "name": "stdout",
     "output_type": "stream",
     "text": [
      "A = QR\n",
      "[[2. 1. 2.]\n",
      " [1. 3. 2.]\n",
      " [2. 4. 1.]]\n",
      "Q\n",
      "[[-0.66666667  0.7028635  -0.24806947]\n",
      " [-0.33333333 -0.57882876 -0.74420841]\n",
      " [-0.66666667 -0.41344912  0.62017367]]\n",
      "Q transpose x Q inverse\n",
      "[[ 0.37553626  0.91130408  0.1688117 ]\n",
      " [-0.77284917  0.40844721 -0.48566968]\n",
      " [-0.51154343  0.05192059  0.85768734]]\n"
     ]
    }
   ],
   "source": [
    "from numpy.linalg import qr\n",
    "\n",
    "q,r = qr(A)\n",
    "print(\"A = QR\")\n",
    "print(np.dot(q,r))\n",
    "print(\"Q\")\n",
    "print(q)\n",
    "print(\"Q transpose x Q inverse\")\n",
    "print(np.dot(q.T,np.linalg.inv(q)))"
   ]
  },
  {
   "cell_type": "markdown",
   "id": "787eb568-a152-4c12-bf63-8a17484dc7b0",
   "metadata": {},
   "source": [
    "6. Use the QR method to get all the eigenvalues for matrix $A$ in problem 4. "
   ]
  },
  {
   "cell_type": "code",
   "execution_count": 6,
   "id": "75cfd071-ee08-482d-a831-8a0b80991b6e",
   "metadata": {},
   "outputs": [
    {
     "name": "stdout",
     "output_type": "stream",
     "text": [
      "The eigenvalues are 6.0291, 0.6662 and -0.6953\n"
     ]
    }
   ],
   "source": [
    "from numpy.linalg import qr\n",
    "for i in range(100):\n",
    "    q,r = qr(A)\n",
    "    A = np.dot(r,q)\n",
    "\n",
    "print(\"The eigenvalues are %.4f, %.4f and %.4f\" %(A[0][0],A[1][1],A[2][2]))"
   ]
  },
  {
   "cell_type": "markdown",
   "id": "994768bd-7117-4d17-a3ea-3b5d5320661f",
   "metadata": {},
   "source": [
    "7. Get the eigenvalues and eigenvectors for the matrix $A$ in problem 4 using the Python built-in function. "
   ]
  },
  {
   "cell_type": "code",
   "execution_count": 7,
   "id": "5f8c7ca9-fc97-4b08-a316-7bf065f8b36e",
   "metadata": {},
   "outputs": [
    {
     "name": "stdout",
     "output_type": "stream",
     "text": [
      "Eigenvalues:\n",
      "[ 6.02911192 -1.36536788  1.33625596]\n",
      "Eigenvectors:\n",
      "[[ 1.         -0.18910254  0.10850537]\n",
      " [ 0.          0.35457859 -0.75679012]\n",
      " [ 0.         -0.91570424 -0.64458924]]\n"
     ]
    }
   ],
   "source": [
    "from numpy.linalg import eig\n",
    "values,vectors = eig(A)\n",
    "\n",
    "print(\"Eigenvalues:\")\n",
    "print(values)\n",
    "print(\"Eigenvectors:\")\n",
    "print(vectors)"
   ]
  },
  {
   "cell_type": "code",
   "execution_count": 8,
   "id": "9b42d933",
   "metadata": {},
   "outputs": [
    {
     "data": {
      "text/plain": [
       "EigResult(eigenvalues=array([ 6.02911192, -1.36536788,  1.33625596]), eigenvectors=array([[ 1.        , -0.18910254,  0.10850537],\n",
       "       [ 0.        ,  0.35457859, -0.75679012],\n",
       "       [ 0.        , -0.91570424, -0.64458924]]))"
      ]
     },
     "execution_count": 8,
     "metadata": {},
     "output_type": "execute_result"
    }
   ],
   "source": [
    "eig(A)"
   ]
  }
 ],
 "metadata": {
  "kernelspec": {
   "display_name": "Python 3 (ipykernel)",
   "language": "python",
   "name": "python3"
  },
  "language_info": {
   "codemirror_mode": {
    "name": "ipython",
    "version": 3
   },
   "file_extension": ".py",
   "mimetype": "text/x-python",
   "name": "python",
   "nbconvert_exporter": "python",
   "pygments_lexer": "ipython3",
   "version": "3.9.7"
  }
 },
 "nbformat": 4,
 "nbformat_minor": 5
}
