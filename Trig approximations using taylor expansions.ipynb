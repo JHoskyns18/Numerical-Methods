{
 "cells": [
  {
   "cell_type": "code",
   "execution_count": 1,
   "id": "388e5139-e5d4-4edf-8649-7ebeaafd2be8",
   "metadata": {},
   "outputs": [],
   "source": [
    "import numpy as np\n",
    "import math\n",
    "import matplotlib.pyplot"
   ]
  },
  {
   "cell_type": "markdown",
   "id": "3173aaaf-98b3-4d44-88aa-4dc055fde88f",
   "metadata": {},
   "source": [
    "1) Write a function that gives the Taylor series approximation to the *np.exp* function around 0 for order 1 through 7. Calculate the truncation error bound for order 7."
   ]
  },
  {
   "cell_type": "code",
   "execution_count": 2,
   "id": "64f5d05a-f79b-4cf6-9cf1-91bc465dd538",
   "metadata": {},
   "outputs": [
    {
     "name": "stdout",
     "output_type": "stream",
     "text": [
      "Exact value: 2.718281828459045\n",
      "Order 1: 2.000000000000000\n",
      "Order 2: 2.500000000000000\n",
      "Order 3: 2.666666666666667\n",
      "Order 4: 2.708333333333333\n",
      "Order 5: 2.716666666666666\n",
      "Order 6: 2.718055555555555\n",
      "Order 7: 2.718253968253968\n",
      "Truncation eror: 6.741770407884536e-05\n"
     ]
    }
   ],
   "source": [
    "def expo(n):\n",
    "    y = 0\n",
    "\n",
    "    for i in range(n+1):\n",
    "        y += x**i/math.factorial(i)\n",
    "\n",
    "    return y\n",
    "\n",
    "x = 1\n",
    "n = 7\n",
    "\n",
    "print(\"Exact value: \" + str(np.exp(x)))\n",
    "\n",
    "for i in range(1,8):\n",
    "    print(\"Order %d: %.15f\" %(i,expo(i)))\n",
    "\n",
    "trunc_error = np.exp(x)*x**(n+1)/(math.factorial(n+1))\n",
    "print(\"Truncation eror: \" + str(trunc_error))"
   ]
  },
  {
   "cell_type": "markdown",
   "id": "3d3f06d8-dad2-47eb-b932-991286015bd5",
   "metadata": {},
   "source": [
    "2. Write a function *my_cosh_approximator(x, n)*, where output is the $n$-th order Taylor Series approximation for $\\text{cosh}(x)$, the hyperbolic cosine of $x$, taken around $a = 0$. You may assume that $x$ is an array and $n$ is a positive integer (including 0). Recall that\n",
    "$$\n",
    "{\\rm cosh}(x) = (e^x + e^{-x})/2.\n",
    "$$"
   ]
  },
  {
   "cell_type": "code",
   "execution_count": 3,
   "id": "8d6f9870-618b-4db0-8250-12c80ab007dd",
   "metadata": {},
   "outputs": [
    {
     "name": "stdout",
     "output_type": "stream",
     "text": [
      "1.5416666666666667\n",
      "1.5430806348152437\n"
     ]
    }
   ],
   "source": [
    "def my_cosh_approximator(x,n):\n",
    "    y = 0\n",
    "    for i in range(n+1):\n",
    "        y += 0.5*(x**i/math.factorial(i) + (-x)**i/math.factorial(i))\n",
    "    return y\n",
    "\n",
    "print(my_cosh_approximator(1,5))\n",
    "print(np.cosh(x))"
   ]
  },
  {
   "cell_type": "markdown",
   "id": "38e67f5d-d60c-4573-a5c8-8861178d23e8",
   "metadata": {},
   "source": [
    "3. Compute the fourth order Taylor expansion for $\\sin(x)$ and $\\cos(x)$ and $\\sin(x)\\cos(x)$ around 0. Which produces less error for $x = \\pi/2$: computing the Taylor expansion for $\\sin$ and $\\cos$ separately then multiplying the result together, or computing the Taylor expansion for the product first then plugging in $x$?  "
   ]
  },
  {
   "cell_type": "code",
   "execution_count": 4,
   "id": "8c12b91d-3737-4634-a59d-89c03c54643b",
   "metadata": {},
   "outputs": [
    {
     "name": "stdout",
     "output_type": "stream",
     "text": [
      "0.018467935726263235\n",
      "0.2788681317824042\n"
     ]
    }
   ],
   "source": [
    "x = np.pi/2\n",
    "approx_sin = x - x**3/6\n",
    "approx_cos = 1 - (x**2)/2 + (x**4)/math.factorial(4)\n",
    "\n",
    "approx_sincos = approx_sin*approx_cos\n",
    "taylor_approx_sincos = x - x**3/3\n",
    "\n",
    "print(approx_sincos)\n",
    "print(taylor_approx_sincos)\n",
    "actual_value = np.sin(x)*np.cos(x)\n",
    "#The first approach yields a smaller error"
   ]
  }
 ],
 "metadata": {
  "kernelspec": {
   "display_name": "Python 3 (ipykernel)",
   "language": "python",
   "name": "python3"
  },
  "language_info": {
   "codemirror_mode": {
    "name": "ipython",
    "version": 3
   },
   "file_extension": ".py",
   "mimetype": "text/x-python",
   "name": "python",
   "nbconvert_exporter": "python",
   "pygments_lexer": "ipython3",
   "version": "3.9.7"
  }
 },
 "nbformat": 4,
 "nbformat_minor": 5
}
