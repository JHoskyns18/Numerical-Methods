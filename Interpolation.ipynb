{
 "cells": [
  {
   "cell_type": "code",
   "execution_count": 7,
   "id": "402569e5",
   "metadata": {},
   "outputs": [],
   "source": [
    "import numpy as np "
   ]
  },
  {
   "cell_type": "code",
   "execution_count": 12,
   "id": "4270df64",
   "metadata": {},
   "outputs": [
    {
     "name": "stdout",
     "output_type": "stream",
     "text": [
      "Interval: [1.0,2.0]\n",
      "Linear Interpolation: f(1.6)= 4.596\n",
      "Quadratic Interpolation: f(1.6)= 4.2408\n",
      "Interval: [1.5,2.5]\n",
      "Quadratic Interpolation: f(1.6)= 4.204\n"
     ]
    }
   ],
   "source": [
    "#Question 1 \n",
    "\n",
    "x = np.array([0,0.5, 1.0, 1.5, 2.0,2.5])\n",
    "f_x = np.array([1, 2.119, 2.910, 3.945, 5.720, 8.695])\n",
    "\n",
    "#calculate f(1.6) using linear interpolation and quadratic interpolation\n",
    "def linear_interpol(x0,x1,f0,f1,x):\n",
    "    P=f0+ ((f1-f0)/(x1-x0))*(x-x0)\n",
    "    return P\n",
    "\n",
    "def quadratic_interpol(x0,x1,x2,f0,f1,f2,x):\n",
    "    a0=f0\n",
    "    a1=(f1-f0)/(x1-x0)\n",
    "    a2=(((f2-f1)/(x2-x1))-((f1-f0)/(x1-x0)))/(x2-x0)\n",
    "    P= a0+a1*(x-x0)+a2*(x-x0)*(x-x1)\n",
    "    return P\n",
    "\n",
    "f_lin= linear_interpol(1,2,2.910,5.72,1.6)\n",
    "f_quad= quadratic_interpol(1,1.5,2,2.910,3.945,5.72,1.6)\n",
    "print(\"Interval: [1.0,2.0]\")\n",
    "print(\"Linear Interpolation: f(1.6)=\",f_lin)\n",
    "print(\"Quadratic Interpolation: f(1.6)=\",f_quad)\n",
    "\n",
    "f_quad= quadratic_interpol(1.5,2,2.5,3.945,5.72,8.695,1.6)\n",
    "print(\"Interval: [1.5,2.5]\")\n",
    "print(\"Quadratic Interpolation: f(1.6)=\",f_quad)"
   ]
  },
  {
   "cell_type": "code",
   "execution_count": 15,
   "id": "e9fa11c4",
   "metadata": {},
   "outputs": [
    {
     "name": "stdout",
     "output_type": "stream",
     "text": [
      "Interval: [0.2,0.3]\n",
      "Linear Interpolation: f(0.28)= 0.960286\n",
      "Interval: [0.2,0.4]\n",
      "Linear Interpolation: f(0.28)= 0.956466\n",
      "Interval: [0.2,0.5]\n",
      "Linear Interpolation: f(0.28)= 0.9527393333333334\n",
      "Interval: [0.2,0.6]\n",
      "Linear Interpolation: f(0.28)= 0.949124\n"
     ]
    }
   ],
   "source": [
    "#Question 2 \n",
    "#a)\n",
    "f_lin1 = linear_interpol(0.2,0.3,0.98007,0.95534,0.28)\n",
    "print(\"Interval: [0.2,0.3]\")\n",
    "print(\"Linear Interpolation: f(0.28)=\",f_lin1)\n",
    "\n",
    "f_lin2 = linear_interpol(0.2,0.4,0.98007,0.92106,0.28)\n",
    "print(\"Interval: [0.2,0.4]\")\n",
    "print(\"Linear Interpolation: f(0.28)=\",f_lin2)\n",
    "\n",
    "f_lin3 = linear_interpol(0.2,0.5,0.98007,0.87758,0.28)\n",
    "print(\"Interval: [0.2,0.5]\")\n",
    "print(\"Linear Interpolation: f(0.28)=\",f_lin3)\n",
    "\n",
    "f_lin4 = linear_interpol(0.2,0.6,0.98007,0.82534,0.28)\n",
    "print(\"Interval: [0.2,0.6]\")\n",
    "print(\"Linear Interpolation: f(0.28)=\",f_lin4)"
   ]
  },
  {
   "cell_type": "code",
   "execution_count": 19,
   "id": "f0746acc",
   "metadata": {},
   "outputs": [
    {
     "name": "stdout",
     "output_type": "stream",
     "text": [
      "Interval: [0.2,0.3]\n",
      "Error: 0.000801\n",
      "Interval: [0.2,0.4]\n",
      "Error: 0.004775\n",
      "Interval: [0.2,0.5]\n",
      "Error: 0.008653\n",
      "Interval: [0.2,0.6]\n",
      "Error: 0.012415\n"
     ]
    }
   ],
   "source": [
    "#b)\n",
    "\n",
    "def error(a,c):\n",
    "    err= np.round(np.abs(a-c)/a,6)\n",
    "    return err \n",
    "\n",
    "f_actual= np.cos(0.28)\n",
    "\n",
    "err1= error(f_actual,f_lin1 )\n",
    "print(\"Interval: [0.2,0.3]\")\n",
    "print(\"Error:\", err1)\n",
    "\n",
    "err2= error(f_actual,f_lin2 )\n",
    "print(\"Interval: [0.2,0.4]\")\n",
    "print(\"Error:\", err2)\n",
    "\n",
    "err3= error(f_actual,f_lin3 )\n",
    "print(\"Interval: [0.2,0.5]\")\n",
    "print(\"Error:\", err3)\n",
    "\n",
    "err4= error(f_actual,f_lin4 )\n",
    "print(\"Interval: [0.2,0.6]\")\n",
    "print(\"Error:\", err4)"
   ]
  },
  {
   "cell_type": "code",
   "execution_count": 22,
   "id": "0a39087b",
   "metadata": {},
   "outputs": [
    {
     "name": "stdout",
     "output_type": "stream",
     "text": [
      "0.0801 0.119375 0.096144 0.077594\n"
     ]
    }
   ],
   "source": [
    "#proportional to the square of the interval length?\n",
    "c1= np.round(err1/(0.1)**2,6)\n",
    "c2= np.round(err2/(0.2)**2,6)\n",
    "c3= np.round(err3/(0.3)**2,6)\n",
    "c4= np.round(err4/(0.4)**2,6)\n",
    "print(c1,c2,c3,c4)"
   ]
  },
  {
   "cell_type": "code",
   "execution_count": 24,
   "id": "e581686e",
   "metadata": {},
   "outputs": [
    {
     "name": "stdout",
     "output_type": "stream",
     "text": [
      "Interval: [0.2,0.3]\n",
      "Quadratic Interpolation: f(0.28)= 0.96105\n",
      "Error: 6e-06\n"
     ]
    }
   ],
   "source": [
    "#c)\n",
    "f_quad= quadratic_interpol(0.2,0.3,0.4,0.98007,0.95534,0.92106,0.28)\n",
    "print(\"Interval: [0.2,0.3]\")\n",
    "print(\"Quadratic Interpolation: f(0.28)=\",f_quad)\n",
    "\n",
    "err_quad = error(f_actual,f_quad)\n",
    "print(\"Error:\", err_quad)\n",
    "#the error using quadratic interpolation is much lower than the error using linear interpolation "
   ]
  },
  {
   "cell_type": "code",
   "execution_count": 22,
   "id": "d4ff8df9",
   "metadata": {},
   "outputs": [
    {
     "name": "stdout",
     "output_type": "stream",
     "text": [
      "0.9610596160000001\n",
      "Lagrangian Interpolation: f(0.28)= 0.9610596160000001\n"
     ]
    }
   ],
   "source": [
    "#d) lagrance interpolation over all 5 points \n",
    "from math import prod \n",
    "x_array=np.array([0.2,0.3,0.4,0.5,0.6])\n",
    "fx_array=np.array([0.98007,0.95534,0.92106,0.87758,0.82534])\n",
    "def lagrangian_interpol(x_dat,fx_dat,x):\n",
    "    n=len(x_dat)\n",
    "    P=0\n",
    "    for i in range (n):\n",
    "        L_i=1\n",
    "        for j in range(n):\n",
    "            if i != j:\n",
    "                L_i *= (x-x_dat[j])/(x_dat[i]-x_dat[j])\n",
    "        P += (L_i*fx_dat[i])\n",
    "    return P\n",
    "\n",
    "f_lagrange= lagrangian_interpol(x_array, fx_array,0.28)  \n",
    "print(f_lagrange)\n",
    "print(\"Lagrangian Interpolation: f(0.28)=\",f_lagrange)"
   ]
  },
  {
   "cell_type": "code",
   "execution_count": 24,
   "id": "548b5690",
   "metadata": {},
   "outputs": [
    {
     "name": "stdout",
     "output_type": "stream",
     "text": [
      "Lagrangian Interpolation: f(0.15)= 0.30908499999999994\n",
      "Lagrangian Interpolation: f(0.25)= 0.5468124999999999\n"
     ]
    }
   ],
   "source": [
    "#Question 3 \n",
    "x_array=np.array([0.0,0.1,0.2,0.3])\n",
    "fx_array = np.array([0,0.20271,0.42279,0.68414])\n",
    "\n",
    "f_lagrange= lagrangian_interpol(x_array, fx_array,0.15)  \n",
    "print(\"Lagrangian Interpolation: f(0.15)=\",f_lagrange)\n",
    "\n",
    "f_lagrange= lagrangian_interpol(x_array, fx_array,0.25)  \n",
    "print(\"Lagrangian Interpolation: f(0.25)=\",f_lagrange)"
   ]
  },
  {
   "cell_type": "code",
   "execution_count": 43,
   "id": "77b7ae3a",
   "metadata": {},
   "outputs": [
    {
     "data": {
      "image/png": "[encoded data removed]",
      "text/plain": [
       "<Figure size 432x288 with 1 Axes>"
      ]
     },
     "metadata": {
      "needs_background": "light"
     },
     "output_type": "display_data"
    }
   ],
   "source": [
    "#PROBLEMS LECTURE 10\n",
    "#Question 1\n",
    "import matplotlib.pyplot as plt \n",
    "from scipy.interpolate import interp1d\n",
    "from scipy.interpolate import CubicSpline\n",
    "#taking the data from the first question to test this out on \n",
    "x = np.array([0,0.5, 1.0, 1.5, 2.0,2.5])\n",
    "f_x = np.array([1, 2.119, 2.910, 3.945, 5.720, 8.695])\n",
    "X=np.array([0.1,0.2,0.25,0.7,0.9,1.7,2.2])\n",
    "\n",
    "def my_interp_plotter(x,y,X,option):\n",
    "    interpolate = interp1d(x, y,kind=option)\n",
    "    Y=interpolate(X)\n",
    "    plt.plot(x,y,color='red',marker='o',label='experimental data')\n",
    "    plt.plot(X,Y,color='blue',linestyle='-',label='interpolated data')\n",
    "    plt.xlabel('x value')\n",
    "    plt.ylabel('y value')\n",
    "    plt.title('My Interpolation Plotter')\n",
    "    plt.legend()\n",
    "    plt.show()\n",
    "my_interp_plotter(x,f_x,X,'linear') \n",
    " "
   ]
  },
  {
   "cell_type": "code",
   "execution_count": 44,
   "id": "60e971ac",
   "metadata": {},
   "outputs": [],
   "source": [
    "#Question 2 \n",
    "def my_lagrange(x, y, X):\n",
    "    n=len(x)\n",
    "    P=0\n",
    "    for i in range(n):\n",
    "        L_i=1\n",
    "        for j in range(n):\n",
    "            if i!=j:\n",
    "                L_i *= (x-x_dat[j])/(x_dat[i]-x_dat[j])\n",
    "        P += L_i*y[i]\n",
    "    return P"
   ]
  },
  {
   "cell_type": "code",
   "execution_count": null,
   "id": "e390e8ce",
   "metadata": {},
   "outputs": [],
   "source": []
  }
 ],
 "metadata": {
  "kernelspec": {
   "display_name": "Python 3 (ipykernel)",
   "language": "python",
   "name": "python3"
  },
  "language_info": {
   "codemirror_mode": {
    "name": "ipython",
    "version": 3
   },
   "file_extension": ".py",
   "mimetype": "text/x-python",
   "name": "python",
   "nbconvert_exporter": "python",
   "pygments_lexer": "ipython3",
   "version": "3.9.7"
  }
 },
 "nbformat": 4,
 "nbformat_minor": 5
}
