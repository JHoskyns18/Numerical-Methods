{
 "cells": [
  {
   "cell_type": "code",
   "execution_count": 1,
   "metadata": {
    "id": "PLXjpySa_dGP"
   },
   "outputs": [],
   "source": [
    "import numpy as np\n",
    "import matplotlib.pyplot as plt\n",
    "import scipy"
   ]
  },
  {
   "cell_type": "code",
   "execution_count": 2,
   "metadata": {
    "id": "mFyaqziMAOaC"
   },
   "outputs": [],
   "source": [
    "name = 'millikan.txt'\n",
    "data = np.loadtxt(name, dtype = 'float')\n",
    "x = data[:,0]\n",
    "y = data[:,1]"
   ]
  },
  {
   "cell_type": "code",
   "execution_count": 3,
   "metadata": {
    "colab": {
     "base_uri": "https://localhost:8080/",
     "height": 448
    },
    "id": "tJW7Fp43AicR",
    "outputId": "7385d75d-c380-4332-9bbb-6f9098d43935"
   },
   "outputs": [
    {
     "data": {
      "image/png": "[encoded data removed]",
      "text/plain": [
       "<Figure size 432x288 with 1 Axes>"
      ]
     },
     "metadata": {
      "needs_background": "light"
     },
     "output_type": "display_data"
    }
   ],
   "source": [
    "plt.figure()\n",
    "plt.scatter(x,y)\n",
    "plt.show()"
   ]
  },
  {
   "cell_type": "code",
   "execution_count": 4,
   "metadata": {
    "id": "rvX-4765CBKw"
   },
   "outputs": [],
   "source": [
    "def LeastSq(x,y):\n",
    "    N = len(x)\n",
    "    Ex = 1/N*np.sum(x)\n",
    "    Ey = 1/N*np.sum(y)\n",
    "    Ex2 = 1/N*np.sum(x**2)\n",
    "    Exy = 1/N*np.sum(x*y)\n",
    "    m = (Exy - Ex*Ey)/(Ex2-Ex**2)\n",
    "    c = (Ex2*Ey - Exy*Ex)/(Ex2-Ex**2)\n",
    "    return m, c"
   ]
  },
  {
   "cell_type": "code",
   "execution_count": 5,
   "metadata": {
    "colab": {
     "base_uri": "https://localhost:8080/",
     "height": 448
    },
    "id": "Xwu5zAoDCZPN",
    "outputId": "ea6cd76a-731f-4a37-9989-2c3326302f56"
   },
   "outputs": [
    {
     "data": {
      "image/png": "[encoded data removed]",
      "text/plain": [
       "<Figure size 432x288 with 1 Axes>"
      ]
     },
     "metadata": {
      "needs_background": "light"
     },
     "output_type": "display_data"
    }
   ],
   "source": [
    "plt.figure()\n",
    "plt.scatter(x,y,label = 'data')\n",
    "m,c = LeastSq(x,y)\n",
    "X = np.linspace(np.min(x),np.max(x),1000)\n",
    "for i in range(len(x)):\n",
    "    plt.plot([x[i], x[i]],[y[i], m*x[i] + c],'--k')\n",
    "plt.scatter(x, m*x+c, marker = '*', label = 'best-fit data')\n",
    "plt.plot(X,m*X+c,'--r',label = 'best-fit line')\n",
    "plt.legend()\n",
    "plt.show()"
   ]
  },
  {
   "cell_type": "code",
   "execution_count": 6,
   "metadata": {
    "colab": {
     "base_uri": "https://localhost:8080/"
    },
    "id": "Hx_8anG7GYVo",
    "outputId": "a86a51b8-809f-4728-d587-16ad948565dd"
   },
   "outputs": [
    {
     "name": "stdout",
     "output_type": "stream",
     "text": [
      "(6.549340228345038e-34, -1.73123580398135)\n",
      "Planck constant is: 6.62607015e-34\n"
     ]
    }
   ],
   "source": [
    "def Planck(v,V):\n",
    "    e = 1.602e-19\n",
    "    he, wf = LeastSq(v,V)\n",
    "    h = he*e\n",
    "    return h, wf\n",
    "\n",
    "print(Planck(x,y))\n",
    "print('Planck constant is:', scipy.constants.Planck)"
   ]
  },
  {
   "cell_type": "code",
   "execution_count": 7,
   "metadata": {
    "id": "fP4UU8a5IRMb"
   },
   "outputs": [],
   "source": [
    "def Intergrand(f,x_min,x_max, option,N):\n",
    "    h = (x_max-x_min)/N\n",
    "    x = np.linspace(x_min,x_max,N)\n",
    "    if option == 'trap':\n",
    "        x = x[:-1]\n",
    "        I = np.sum(h*(f(x)+f(x+h)))/2\n",
    "    if option == 'simpson':\n",
    "        if N % 2 == 1:\n",
    "            raise ValueError(\"the number of value must be an even integer.\")\n",
    "        x = np.linspace(x_min,x_max,N+1)\n",
    "        y = f(x)\n",
    "        I = h/3 * np.sum(y[0:-1:2] + 4*y[1::2] + y[2::2])\n",
    "    return I"
   ]
  },
  {
   "cell_type": "code",
   "execution_count": 8,
   "metadata": {
    "colab": {
     "base_uri": "https://localhost:8080/"
    },
    "id": "dOXD9VF9I47G",
    "outputId": "9e46f3c0-d47f-4c3d-83b3-eade8d1840ff"
   },
   "outputs": [
    {
     "name": "stdout",
     "output_type": "stream",
     "text": [
      "Actual Integral from 0 to 2: 4.4\n",
      "Estimate using Trapezium Rule: 4.39956\n",
      "Estimate using Simpson Rule: 4.400000000000001\n"
     ]
    }
   ],
   "source": [
    "def f(x):\n",
    "    return x**4 - 2*x + 1\n",
    "\n",
    "value = 2**5/5 - 2**2 + 2\n",
    "print(f\"Actual Integral from 0 to 2: {value}\")\n",
    "\n",
    "N = 10000\n",
    "value1 = Intergrand(f,0,2,'trap',N)\n",
    "value2 = Intergrand(f,0,2,'simpson',N)\n",
    "print(f\"Estimate using Trapezium Rule: {round(value1,5)}\")\n",
    "print(f\"Estimate using Simpson Rule: {round(value2,33)}\")"
   ]
  },
  {
   "cell_type": "code",
   "execution_count": 9,
   "metadata": {
    "id": "2kQv0IdDLbv4"
   },
   "outputs": [
    {
     "data": {
      "text/plain": [
       "Text(0, 0.5, 'Cv')"
      ]
     },
     "execution_count": 9,
     "metadata": {},
     "output_type": "execute_result"
    },
    {
     "data": {
      "image/png": "[encoded data removed]",
      "text/plain": [
       "<Figure size 432x288 with 1 Axes>"
      ]
     },
     "metadata": {
      "needs_background": "light"
     },
     "output_type": "display_data"
    }
   ],
   "source": [
    "def cv(T):\n",
    "    def f(x):\n",
    "        return x**4*np.exp(x)/(np.exp(x) - 1)**2\n",
    "    k_B = scipy.constants.k\n",
    "    theta = 428\n",
    "    V = 1000e-6\n",
    "    rho = 6.022e28\n",
    "    return 9*V*rho*k_B*(T/theta)**3*scipy.integrate.fixed_quad(f,0,theta/T,n = 50)[0]\n",
    "\n",
    "T = np.arange(5,500)\n",
    "Cv = []\n",
    "for t in T:\n",
    "    Cv.append(cv(t))\n",
    "plt.plot(T, Cv)\n",
    "plt.xlabel('T')\n",
    "plt.ylabel('Cv')"
   ]
  },
  {
   "cell_type": "code",
   "execution_count": null,
   "metadata": {},
   "outputs": [],
   "source": []
  }
 ],
 "metadata": {
  "colab": {
   "provenance": []
  },
  "kernelspec": {
   "display_name": "Python 3 (ipykernel)",
   "language": "python",
   "name": "python3"
  },
  "language_info": {
   "codemirror_mode": {
    "name": "ipython",
    "version": 3
   },
   "file_extension": ".py",
   "mimetype": "text/x-python",
   "name": "python",
   "nbconvert_exporter": "python",
   "pygments_lexer": "ipython3",
   "version": "3.9.7"
  }
 },
 "nbformat": 4,
 "nbformat_minor": 4
}
