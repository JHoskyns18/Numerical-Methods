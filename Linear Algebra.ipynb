{
 "cells": [
  {
   "cell_type": "code",
   "execution_count": 1,
   "id": "433ec3d5-ad57-4d98-b4c1-1ea53532efae",
   "metadata": {},
   "outputs": [
    {
     "name": "stdout",
     "output_type": "stream",
     "text": [
      "3\n",
      "The solutions are x1 = 1.00, x2 = -0.00 and x3 = 2.00.\n"
     ]
    }
   ],
   "source": [
    "import numpy as np\n",
    "\n",
    "def gauss(A):\n",
    "    C = A.copy()\n",
    "    if C[0][0] != 0:\n",
    "        C[2] -= C[2][0]/C[0][0]*C[0]\n",
    "        C[1] -= C[1][0]/C[0][0]*C[0]\n",
    "\n",
    "    if C[1][1] != 0:\n",
    "        C[2] -= C[2][1]/C[1][1]*C[1]\n",
    "\n",
    "    return C\n",
    "\n",
    "M = np.array([[1.,5.,4.],\n",
    "             [2.,2.,-1.],\n",
    "             [3.,4.,-1.]])\n",
    "\n",
    "y = np.array([[9.],\n",
    "             [0.],\n",
    "             [1.]])\n",
    "\n",
    "A = np.concatenate((M,y),axis=1)\n",
    "B = gauss(A)\n",
    "\n",
    "x3 = B[2,3]/B[2,2]\n",
    "x2 = (B[1,3] - B[1,2]*x3)/B[1,1]\n",
    "x1 = (B[0,3] - B[0,2]*x3 - B[0,1]*x2)/B[0,0]\n",
    "\n",
    "L = np.zeros([3,3])\n",
    "L[0] = B[0][0:3].copy()\n",
    "L[1] = B[1][0:3].copy()\n",
    "L[2] = B[2][0:3].copy()\n",
    "\n",
    "U = np.matmul(np.linalg.inv(L),M)\n",
    "print(A.shape[0])\n",
    "\n",
    "print(\"The solutions are x1 = %.2f, x2 = %.2f and x3 = %.2f.\" %(x1,x2,x3))"
   ]
  },
  {
   "cell_type": "code",
   "execution_count": 2,
   "id": "665a0289",
   "metadata": {},
   "outputs": [
    {
     "data": {
      "text/plain": [
       "array([[ 1.,  5.,  4.,  9.],\n",
       "       [ 2.,  2., -1.,  0.],\n",
       "       [ 3.,  4., -1.,  1.]])"
      ]
     },
     "execution_count": 2,
     "metadata": {},
     "output_type": "execute_result"
    }
   ],
   "source": [
    "A"
   ]
  },
  {
   "cell_type": "code",
   "execution_count": 3,
   "id": "0c03ed80",
   "metadata": {},
   "outputs": [
    {
     "name": "stdout",
     "output_type": "stream",
     "text": [
      "[[  1.      5.      4.      9.   ]\n",
      " [  0.     -8.     -9.    -18.   ]\n",
      " [  0.      0.     -0.625  -1.25 ]]\n"
     ]
    }
   ],
   "source": [
    "print(B)"
   ]
  }
 ],
 "metadata": {
  "kernelspec": {
   "display_name": "Python 3 (ipykernel)",
   "language": "python",
   "name": "python3"
  },
  "language_info": {
   "codemirror_mode": {
    "name": "ipython",
    "version": 3
   },
   "file_extension": ".py",
   "mimetype": "text/x-python",
   "name": "python",
   "nbconvert_exporter": "python",
   "pygments_lexer": "ipython3",
   "version": "3.9.7"
  }
 },
 "nbformat": 4,
 "nbformat_minor": 5
}
