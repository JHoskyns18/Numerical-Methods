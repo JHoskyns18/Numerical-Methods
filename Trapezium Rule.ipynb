{
 "cells": [
  {
   "cell_type": "code",
   "execution_count": 1,
   "id": "db21bb16",
   "metadata": {},
   "outputs": [],
   "source": [
    "import numpy as np"
   ]
  },
  {
   "cell_type": "code",
   "execution_count": 90,
   "id": "d1ac2a97",
   "metadata": {},
   "outputs": [],
   "source": [
    "def trap(f,n):\n",
    "    x = np.linspace(0,np.pi,n+1)\n",
    "    y = f(x)\n",
    "    Sum = 0\n",
    "    for i in range(n+1):\n",
    "        if i==0 or i==n:\n",
    "            Sum += y[i]\n",
    "        else: \n",
    "            Sum += 2*y[i]\n",
    "    ans = ((x[n]-x[0])/2) * Sum\n",
    "    return ans"
   ]
  },
  {
   "cell_type": "code",
   "execution_count": 91,
   "id": "78e2aa4c",
   "metadata": {},
   "outputs": [],
   "source": [
    "def a(x):\n",
    "    return 8+(5*np.sin(x))"
   ]
  },
  {
   "cell_type": "code",
   "execution_count": 92,
   "id": "141f33a3",
   "metadata": {},
   "outputs": [
    {
     "data": {
      "text/plain": [
       "np.float64(25.132741228718345)"
      ]
     },
     "execution_count": 92,
     "metadata": {},
     "output_type": "execute_result"
    }
   ],
   "source": [
    "trap(a,1)"
   ]
  },
  {
   "cell_type": "code",
   "execution_count": 93,
   "id": "2cc6ba3a",
   "metadata": {},
   "outputs": [
    {
     "data": {
      "text/plain": [
       "np.float64(65.97344572538566)"
      ]
     },
     "execution_count": 93,
     "metadata": {},
     "output_type": "execute_result"
    }
   ],
   "source": [
    "trap(a,2)"
   ]
  },
  {
   "cell_type": "code",
   "execution_count": 94,
   "id": "44986546",
   "metadata": {},
   "outputs": [
    {
     "data": {
      "text/plain": [
       "np.float64(138.4533428736142)"
      ]
     },
     "execution_count": 94,
     "metadata": {},
     "output_type": "execute_result"
    }
   ],
   "source": [
    "trap(a,4)"
   ]
  },
  {
   "cell_type": "code",
   "execution_count": null,
   "id": "5e093604",
   "metadata": {},
   "outputs": [],
   "source": []
  }
 ],
 "metadata": {
  "kernelspec": {
   "display_name": "Python 3 (ipykernel)",
   "language": "python",
   "name": "python3"
  },
  "language_info": {
   "codemirror_mode": {
    "name": "ipython",
    "version": 3
   },
   "file_extension": ".py",
   "mimetype": "text/x-python",
   "name": "python",
   "nbconvert_exporter": "python",
   "pygments_lexer": "ipython3",
   "version": "3.9.7"
  }
 },
 "nbformat": 4,
 "nbformat_minor": 5
}
